{
  "nbformat": 4,
  "nbformat_minor": 0,
  "metadata": {
    "kernelspec": {
      "display_name": "Python 3",
      "language": "python",
      "name": "python3"
    },
    "language_info": {
      "codemirror_mode": {
        "name": "ipython",
        "version": 3
      },
      "file_extension": ".py",
      "mimetype": "text/x-python",
      "name": "python",
      "nbconvert_exporter": "python",
      "pygments_lexer": "ipython3",
      "version": "3.7.5"
    },
    "colab": {
      "name": "DropOut_EarlyStopping(MNIST)",
      "provenance": []
    }
  },
  "cells": [
    {
      "cell_type": "code",
      "metadata": {
        "id": "I-X-0Ap3mMAO"
      },
      "source": [
        "from __future__ import absolute_import, division, print_function, unicode_literals\n",
        "\n",
        "try:\n",
        "  %tensorflow_version 2.x\n",
        "except Exception:\n",
        "  pass\n",
        "\n",
        "import tensorflow as tf\n",
        "tf.random.set_seed(1)"
      ],
      "execution_count": 1,
      "outputs": []
    },
    {
      "cell_type": "code",
      "metadata": {
        "id": "Yj2zXQ_vmMAP"
      },
      "source": [
        "import tensorflow as tf\n",
        "from tensorflow.keras.models import Sequential\n",
        "from tensorflow.keras.layers import Flatten\n",
        "from tensorflow.keras.layers import Dense\n",
        "from tensorflow.keras.layers import Activation\n",
        "from tensorflow.keras.layers import Dropout\n",
        "from tensorflow.keras.callbacks import EarlyStopping, ModelCheckpoint"
      ],
      "execution_count": 2,
      "outputs": []
    },
    {
      "cell_type": "markdown",
      "metadata": {
        "id": "er1PtfuqmMAQ"
      },
      "source": [
        "# Get MNIST Data"
      ]
    },
    {
      "cell_type": "code",
      "metadata": {
        "id": "Sae6i-JHmMAQ",
        "colab": {
          "base_uri": "https://localhost:8080/"
        },
        "outputId": "cb424a53-ba9a-4390-a643-5fb3cc1dcc62"
      },
      "source": [
        "(x_train, y_train), (x_test, y_test) = tf.keras.datasets.mnist.load_data()\n",
        "x_train = x_train.astype('float32')\n",
        "x_test = x_test.astype('float32')\n",
        "\n",
        "gray_scale = 255\n",
        "x_train /= gray_scale\n",
        "x_test /= gray_scale"
      ],
      "execution_count": 3,
      "outputs": [
        {
          "output_type": "stream",
          "text": [
            "Downloading data from https://storage.googleapis.com/tensorflow/tf-keras-datasets/mnist.npz\n",
            "11493376/11490434 [==============================] - 0s 0us/step\n",
            "11501568/11490434 [==============================] - 0s 0us/step\n"
          ],
          "name": "stdout"
        }
      ]
    },
    {
      "cell_type": "markdown",
      "metadata": {
        "id": "tGA5cTg6mMAQ"
      },
      "source": [
        "# MLP Model for classifiation"
      ]
    },
    {
      "cell_type": "code",
      "metadata": {
        "id": "aN3N2icJmMAR"
      },
      "source": [
        "model = Sequential([\n",
        "    Flatten(input_shape=(28, 28)),    # reshape 28 row * 28 column data to 28*28 rows\n",
        "    Dense(256, activation='sigmoid'), # dense layer 1\n",
        "    Dropout(0.2), # DropOut 20% on dense layer 1\n",
        "    Dense(128, activation='sigmoid'), # dense layer 2\n",
        "    Dropout(0.1), # DropOut 10% on dense layer 2\n",
        "    Dense(10, activation='softmax'),  # dense layer 3\n",
        "])"
      ],
      "execution_count": 4,
      "outputs": []
    },
    {
      "cell_type": "code",
      "metadata": {
        "id": "dmLjcq9gmMAS"
      },
      "source": [
        "model.compile(optimizer='adam',\n",
        "              loss='sparse_categorical_crossentropy',\n",
        "              metrics=['accuracy'])"
      ],
      "execution_count": 5,
      "outputs": []
    },
    {
      "cell_type": "markdown",
      "metadata": {
        "id": "Tw0dC-OrmMAS"
      },
      "source": [
        "# Train"
      ]
    },
    {
      "cell_type": "code",
      "metadata": {
        "id": "lUi10Z6rmMAT",
        "colab": {
          "base_uri": "https://localhost:8080/"
        },
        "outputId": "c5a530f0-ff1e-4400-fa82-653612b61ff6"
      },
      "source": [
        "callbacks = [EarlyStopping(monitor='val_accuracy', patience=3)] # Early Stopping\n",
        "model.fit(x_train, y_train, epochs=100, \n",
        "          batch_size=2000, validation_split = 0.2, callbacks=callbacks)"
      ],
      "execution_count": 6,
      "outputs": [
        {
          "output_type": "stream",
          "text": [
            "Epoch 1/100\n",
            "24/24 [==============================] - 2s 59ms/step - loss: 2.0959 - accuracy: 0.3259 - val_loss: 1.6958 - val_accuracy: 0.6853\n",
            "Epoch 2/100\n",
            "24/24 [==============================] - 1s 53ms/step - loss: 1.4014 - accuracy: 0.6660 - val_loss: 1.0140 - val_accuracy: 0.7934\n",
            "Epoch 3/100\n",
            "24/24 [==============================] - 1s 51ms/step - loss: 0.8981 - accuracy: 0.7792 - val_loss: 0.6634 - val_accuracy: 0.8600\n",
            "Epoch 4/100\n",
            "24/24 [==============================] - 1s 52ms/step - loss: 0.6447 - accuracy: 0.8385 - val_loss: 0.4911 - val_accuracy: 0.8848\n",
            "Epoch 5/100\n",
            "24/24 [==============================] - 1s 52ms/step - loss: 0.5113 - accuracy: 0.8690 - val_loss: 0.4010 - val_accuracy: 0.9010\n",
            "Epoch 6/100\n",
            "24/24 [==============================] - 1s 52ms/step - loss: 0.4354 - accuracy: 0.8842 - val_loss: 0.3511 - val_accuracy: 0.9072\n",
            "Epoch 7/100\n",
            "24/24 [==============================] - 1s 52ms/step - loss: 0.3890 - accuracy: 0.8941 - val_loss: 0.3182 - val_accuracy: 0.9126\n",
            "Epoch 8/100\n",
            "24/24 [==============================] - 1s 52ms/step - loss: 0.3574 - accuracy: 0.8992 - val_loss: 0.2945 - val_accuracy: 0.9194\n",
            "Epoch 9/100\n",
            "24/24 [==============================] - 1s 52ms/step - loss: 0.3348 - accuracy: 0.9056 - val_loss: 0.2771 - val_accuracy: 0.9230\n",
            "Epoch 10/100\n",
            "24/24 [==============================] - 1s 52ms/step - loss: 0.3152 - accuracy: 0.9109 - val_loss: 0.2619 - val_accuracy: 0.9271\n",
            "Epoch 11/100\n",
            "24/24 [==============================] - 1s 53ms/step - loss: 0.3005 - accuracy: 0.9140 - val_loss: 0.2500 - val_accuracy: 0.9288\n",
            "Epoch 12/100\n",
            "24/24 [==============================] - 1s 51ms/step - loss: 0.2857 - accuracy: 0.9170 - val_loss: 0.2395 - val_accuracy: 0.9320\n",
            "Epoch 13/100\n",
            "24/24 [==============================] - 1s 53ms/step - loss: 0.2745 - accuracy: 0.9192 - val_loss: 0.2305 - val_accuracy: 0.9337\n",
            "Epoch 14/100\n",
            "24/24 [==============================] - 1s 52ms/step - loss: 0.2622 - accuracy: 0.9234 - val_loss: 0.2224 - val_accuracy: 0.9353\n",
            "Epoch 15/100\n",
            "24/24 [==============================] - 1s 52ms/step - loss: 0.2519 - accuracy: 0.9261 - val_loss: 0.2147 - val_accuracy: 0.9383\n",
            "Epoch 16/100\n",
            "24/24 [==============================] - 1s 53ms/step - loss: 0.2427 - accuracy: 0.9297 - val_loss: 0.2067 - val_accuracy: 0.9415\n",
            "Epoch 17/100\n",
            "24/24 [==============================] - 1s 52ms/step - loss: 0.2344 - accuracy: 0.9315 - val_loss: 0.2004 - val_accuracy: 0.9440\n",
            "Epoch 18/100\n",
            "24/24 [==============================] - 1s 52ms/step - loss: 0.2263 - accuracy: 0.9340 - val_loss: 0.1947 - val_accuracy: 0.9448\n",
            "Epoch 19/100\n",
            "24/24 [==============================] - 1s 52ms/step - loss: 0.2182 - accuracy: 0.9357 - val_loss: 0.1892 - val_accuracy: 0.9466\n",
            "Epoch 20/100\n",
            "24/24 [==============================] - 1s 52ms/step - loss: 0.2100 - accuracy: 0.9384 - val_loss: 0.1846 - val_accuracy: 0.9482\n",
            "Epoch 21/100\n",
            "24/24 [==============================] - 1s 52ms/step - loss: 0.2045 - accuracy: 0.9393 - val_loss: 0.1799 - val_accuracy: 0.9478\n",
            "Epoch 22/100\n",
            "24/24 [==============================] - 1s 52ms/step - loss: 0.1967 - accuracy: 0.9413 - val_loss: 0.1741 - val_accuracy: 0.9501\n",
            "Epoch 23/100\n",
            "24/24 [==============================] - 1s 52ms/step - loss: 0.1916 - accuracy: 0.9430 - val_loss: 0.1691 - val_accuracy: 0.9519\n",
            "Epoch 24/100\n",
            "24/24 [==============================] - 1s 53ms/step - loss: 0.1851 - accuracy: 0.9444 - val_loss: 0.1654 - val_accuracy: 0.9536\n",
            "Epoch 25/100\n",
            "24/24 [==============================] - 1s 52ms/step - loss: 0.1787 - accuracy: 0.9473 - val_loss: 0.1612 - val_accuracy: 0.9542\n",
            "Epoch 26/100\n",
            "24/24 [==============================] - 1s 52ms/step - loss: 0.1735 - accuracy: 0.9490 - val_loss: 0.1587 - val_accuracy: 0.9542\n",
            "Epoch 27/100\n",
            "24/24 [==============================] - 1s 52ms/step - loss: 0.1716 - accuracy: 0.9479 - val_loss: 0.1542 - val_accuracy: 0.9559\n",
            "Epoch 28/100\n",
            "24/24 [==============================] - 1s 51ms/step - loss: 0.1658 - accuracy: 0.9508 - val_loss: 0.1512 - val_accuracy: 0.9565\n",
            "Epoch 29/100\n",
            "24/24 [==============================] - 1s 51ms/step - loss: 0.1590 - accuracy: 0.9527 - val_loss: 0.1467 - val_accuracy: 0.9580\n",
            "Epoch 30/100\n",
            "24/24 [==============================] - 1s 52ms/step - loss: 0.1553 - accuracy: 0.9541 - val_loss: 0.1441 - val_accuracy: 0.9581\n",
            "Epoch 31/100\n",
            "24/24 [==============================] - 1s 53ms/step - loss: 0.1511 - accuracy: 0.9556 - val_loss: 0.1425 - val_accuracy: 0.9581\n",
            "Epoch 32/100\n",
            "24/24 [==============================] - 1s 53ms/step - loss: 0.1469 - accuracy: 0.9554 - val_loss: 0.1384 - val_accuracy: 0.9595\n",
            "Epoch 33/100\n",
            "24/24 [==============================] - 1s 52ms/step - loss: 0.1443 - accuracy: 0.9569 - val_loss: 0.1362 - val_accuracy: 0.9601\n",
            "Epoch 34/100\n",
            "24/24 [==============================] - 1s 53ms/step - loss: 0.1386 - accuracy: 0.9590 - val_loss: 0.1346 - val_accuracy: 0.9612\n",
            "Epoch 35/100\n",
            "24/24 [==============================] - 1s 53ms/step - loss: 0.1366 - accuracy: 0.9596 - val_loss: 0.1298 - val_accuracy: 0.9621\n",
            "Epoch 36/100\n",
            "24/24 [==============================] - 1s 52ms/step - loss: 0.1331 - accuracy: 0.9607 - val_loss: 0.1283 - val_accuracy: 0.9624\n",
            "Epoch 37/100\n",
            "24/24 [==============================] - 1s 53ms/step - loss: 0.1282 - accuracy: 0.9620 - val_loss: 0.1261 - val_accuracy: 0.9629\n",
            "Epoch 38/100\n",
            "24/24 [==============================] - 1s 52ms/step - loss: 0.1244 - accuracy: 0.9627 - val_loss: 0.1235 - val_accuracy: 0.9637\n",
            "Epoch 39/100\n",
            "24/24 [==============================] - 1s 53ms/step - loss: 0.1201 - accuracy: 0.9652 - val_loss: 0.1217 - val_accuracy: 0.9642\n",
            "Epoch 40/100\n",
            "24/24 [==============================] - 1s 52ms/step - loss: 0.1175 - accuracy: 0.9658 - val_loss: 0.1199 - val_accuracy: 0.9646\n",
            "Epoch 41/100\n",
            "24/24 [==============================] - 1s 53ms/step - loss: 0.1149 - accuracy: 0.9660 - val_loss: 0.1172 - val_accuracy: 0.9651\n",
            "Epoch 42/100\n",
            "24/24 [==============================] - 1s 52ms/step - loss: 0.1122 - accuracy: 0.9669 - val_loss: 0.1160 - val_accuracy: 0.9663\n",
            "Epoch 43/100\n",
            "24/24 [==============================] - 1s 52ms/step - loss: 0.1104 - accuracy: 0.9672 - val_loss: 0.1142 - val_accuracy: 0.9653\n",
            "Epoch 44/100\n",
            "24/24 [==============================] - 1s 53ms/step - loss: 0.1091 - accuracy: 0.9674 - val_loss: 0.1135 - val_accuracy: 0.9663\n",
            "Epoch 45/100\n",
            "24/24 [==============================] - 1s 53ms/step - loss: 0.1053 - accuracy: 0.9687 - val_loss: 0.1106 - val_accuracy: 0.9678\n",
            "Epoch 46/100\n",
            "24/24 [==============================] - 1s 52ms/step - loss: 0.1021 - accuracy: 0.9697 - val_loss: 0.1088 - val_accuracy: 0.9682\n",
            "Epoch 47/100\n",
            "24/24 [==============================] - 1s 53ms/step - loss: 0.1003 - accuracy: 0.9699 - val_loss: 0.1081 - val_accuracy: 0.9678\n",
            "Epoch 48/100\n",
            "24/24 [==============================] - 1s 52ms/step - loss: 0.0967 - accuracy: 0.9715 - val_loss: 0.1058 - val_accuracy: 0.9688\n",
            "Epoch 49/100\n",
            "24/24 [==============================] - 1s 53ms/step - loss: 0.0949 - accuracy: 0.9715 - val_loss: 0.1060 - val_accuracy: 0.9685\n",
            "Epoch 50/100\n",
            "24/24 [==============================] - 1s 53ms/step - loss: 0.0919 - accuracy: 0.9725 - val_loss: 0.1030 - val_accuracy: 0.9704\n",
            "Epoch 51/100\n",
            "24/24 [==============================] - 1s 53ms/step - loss: 0.0915 - accuracy: 0.9722 - val_loss: 0.1032 - val_accuracy: 0.9695\n",
            "Epoch 52/100\n",
            "24/24 [==============================] - 1s 53ms/step - loss: 0.0900 - accuracy: 0.9737 - val_loss: 0.1006 - val_accuracy: 0.9705\n",
            "Epoch 53/100\n",
            "24/24 [==============================] - 1s 54ms/step - loss: 0.0871 - accuracy: 0.9744 - val_loss: 0.1006 - val_accuracy: 0.9707\n",
            "Epoch 54/100\n",
            "24/24 [==============================] - 1s 53ms/step - loss: 0.0847 - accuracy: 0.9741 - val_loss: 0.0986 - val_accuracy: 0.9708\n",
            "Epoch 55/100\n",
            "24/24 [==============================] - 1s 53ms/step - loss: 0.0845 - accuracy: 0.9756 - val_loss: 0.0971 - val_accuracy: 0.9716\n",
            "Epoch 56/100\n",
            "24/24 [==============================] - 1s 54ms/step - loss: 0.0822 - accuracy: 0.9754 - val_loss: 0.0962 - val_accuracy: 0.9714\n",
            "Epoch 57/100\n",
            "24/24 [==============================] - 1s 54ms/step - loss: 0.0790 - accuracy: 0.9762 - val_loss: 0.0959 - val_accuracy: 0.9724\n",
            "Epoch 58/100\n",
            "24/24 [==============================] - 1s 53ms/step - loss: 0.0766 - accuracy: 0.9767 - val_loss: 0.0945 - val_accuracy: 0.9718\n",
            "Epoch 59/100\n",
            "24/24 [==============================] - 1s 52ms/step - loss: 0.0747 - accuracy: 0.9779 - val_loss: 0.0941 - val_accuracy: 0.9717\n",
            "Epoch 60/100\n",
            "24/24 [==============================] - 1s 54ms/step - loss: 0.0740 - accuracy: 0.9772 - val_loss: 0.0929 - val_accuracy: 0.9728\n",
            "Epoch 61/100\n",
            "24/24 [==============================] - 1s 53ms/step - loss: 0.0715 - accuracy: 0.9785 - val_loss: 0.0916 - val_accuracy: 0.9726\n",
            "Epoch 62/100\n",
            "24/24 [==============================] - 1s 53ms/step - loss: 0.0706 - accuracy: 0.9787 - val_loss: 0.0910 - val_accuracy: 0.9730\n",
            "Epoch 63/100\n",
            "24/24 [==============================] - 1s 53ms/step - loss: 0.0704 - accuracy: 0.9788 - val_loss: 0.0901 - val_accuracy: 0.9735\n",
            "Epoch 64/100\n",
            "24/24 [==============================] - 1s 53ms/step - loss: 0.0662 - accuracy: 0.9798 - val_loss: 0.0897 - val_accuracy: 0.9733\n",
            "Epoch 65/100\n",
            "24/24 [==============================] - 1s 53ms/step - loss: 0.0674 - accuracy: 0.9799 - val_loss: 0.0893 - val_accuracy: 0.9735\n",
            "Epoch 66/100\n",
            "24/24 [==============================] - 1s 53ms/step - loss: 0.0640 - accuracy: 0.9813 - val_loss: 0.0879 - val_accuracy: 0.9741\n",
            "Epoch 67/100\n",
            "24/24 [==============================] - 1s 53ms/step - loss: 0.0641 - accuracy: 0.9808 - val_loss: 0.0871 - val_accuracy: 0.9737\n",
            "Epoch 68/100\n",
            "24/24 [==============================] - 1s 54ms/step - loss: 0.0619 - accuracy: 0.9815 - val_loss: 0.0865 - val_accuracy: 0.9735\n",
            "Epoch 69/100\n",
            "24/24 [==============================] - 1s 54ms/step - loss: 0.0611 - accuracy: 0.9818 - val_loss: 0.0861 - val_accuracy: 0.9734\n"
          ],
          "name": "stdout"
        },
        {
          "output_type": "execute_result",
          "data": {
            "text/plain": [
              "<keras.callbacks.History at 0x7fa30ac6e4d0>"
            ]
          },
          "metadata": {},
          "execution_count": 6
        }
      ]
    },
    {
      "cell_type": "markdown",
      "metadata": {
        "id": "eEo6_zYVmMAU"
      },
      "source": [
        "# Test"
      ]
    },
    {
      "cell_type": "code",
      "metadata": {
        "id": "5p_Z9XIzmMAU"
      },
      "source": [
        "results = model.evaluate(x_test,  y_test, verbose = 0)"
      ],
      "execution_count": null,
      "outputs": []
    },
    {
      "cell_type": "code",
      "metadata": {
        "id": "FVRcdtrEmMAU",
        "outputId": "c3931e7d-c64f-49bf-9af0-dd10a3d34f9b"
      },
      "source": [
        "print('test loss, test acc:', results)"
      ],
      "execution_count": null,
      "outputs": [
        {
          "name": "stdout",
          "output_type": "stream",
          "text": [
            "test loss, test acc: [0.09067475673723965, 0.9715]\n"
          ]
        }
      ]
    },
    {
      "cell_type": "code",
      "metadata": {
        "id": "fSZuVuREmMAV"
      },
      "source": [
        ""
      ],
      "execution_count": null,
      "outputs": []
    }
  ]
}
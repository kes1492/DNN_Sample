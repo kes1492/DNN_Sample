{
  "nbformat": 4,
  "nbformat_minor": 0,
  "metadata": {
    "kernelspec": {
      "display_name": "Python 3",
      "language": "python",
      "name": "python3"
    },
    "language_info": {
      "codemirror_mode": {
        "name": "ipython",
        "version": 3
      },
      "file_extension": ".py",
      "mimetype": "text/x-python",
      "name": "python",
      "nbconvert_exporter": "python",
      "pygments_lexer": "ipython3",
      "version": "3.7.5"
    },
    "colab": {
      "name": "Logic_gate(MSE).ipynb",
      "provenance": [],
      "collapsed_sections": []
    }
  },
  "cells": [
    {
      "cell_type": "markdown",
      "metadata": {
        "id": "IlC0i9CFYBZq"
      },
      "source": [
        "# Node\n",
        "Node can do simple logic such as AND operation, OR operation.\n",
        "Let's practice with Tensorflow2."
      ]
    },
    {
      "cell_type": "code",
      "metadata": {
        "id": "ROClmhn8YBZr"
      },
      "source": [
        "from __future__ import absolute_import, division, print_function, unicode_literals\n",
        "\n",
        "try:\n",
        "  %tensorflow_version 2.x\n",
        "except Exception:\n",
        "  pass"
      ],
      "execution_count": 1,
      "outputs": []
    },
    {
      "cell_type": "code",
      "metadata": {
        "id": "IYE6rvtbYBZr"
      },
      "source": [
        "import tensorflow as tf\n",
        "import numpy as np\n",
        "\n",
        "# random seed for always same result from TF2\n",
        "tf.random.set_seed(1)\n",
        "np.random.seed(1)"
      ],
      "execution_count": 2,
      "outputs": []
    },
    {
      "cell_type": "code",
      "metadata": {
        "id": "D37ojcCYYBZs"
      },
      "source": [
        "class Node:\n",
        "    def __init__(self):\n",
        "        self.w = tf.Variable(tf.random.normal([2, 1]))\n",
        "        self.b = tf.Variable(tf.random.normal([1, 1]))\n",
        "        \n",
        "    def __call__(self, x):\n",
        "        return self.preds(x)\n",
        "    \n",
        "    def preds(self,x):\n",
        "        # forward propagation\n",
        "        out = tf.matmul(x,self.w)\n",
        "        out = tf.add(out, self.b)\n",
        "        out = tf.nn.sigmoid(out)\n",
        "        return out\n",
        "    \n",
        "    def loss(self,y_pred, y):\n",
        "        return tf.reduce_mean(tf.square(y_pred - y))\n",
        "   \n",
        "    def train(self, inputs, outputs, learning_rate):\n",
        "        epochs = range(10000)\n",
        "        for i, epoch in enumerate(epochs):\n",
        "            with tf.GradientTape() as t:\n",
        "                current_loss = self.loss(self.preds(inputs), outputs)\n",
        "                if i % 500 == 0:\n",
        "                    print(str(i) + \" epoch, loss: \"+str(current_loss.numpy()))\n",
        "                # back propagation\n",
        "                dW, db = t.gradient(current_loss, [self.w, self.b])\n",
        "                self.w.assign_sub(learning_rate * dW)\n",
        "                self.b.assign_sub(learning_rate * db)"
      ],
      "execution_count": 3,
      "outputs": []
    },
    {
      "cell_type": "code",
      "metadata": {
        "id": "fwOuAKVCYBZs",
        "colab": {
          "base_uri": "https://localhost:8080/"
        },
        "outputId": "0ae13f1f-25b4-4c92-a035-20417a8308ed"
      },
      "source": [
        "# AND operation\n",
        "inputs = tf.constant([[0.0,0.0], [0.0,1.0], [1.0,0.0], [1.0,1.0]])\n",
        "outputs = tf.constant([[0.0], [0.0], [0.0], [1.0]])\n",
        "\n",
        "node = Node()\n",
        "# train : initial learning rate = 0.01\n",
        "node.train(inputs, outputs, 0.01)\n",
        "# test\n",
        "assert node([[0.0,0.0]]).numpy()[0][0] < 0.5\n",
        "assert node([[0.0,1.0]]).numpy()[0][0] < 0.5\n",
        "assert node([[1.0,0.0]]).numpy()[0][0] < 0.5\n",
        "assert node([[1.0,1.0]]).numpy()[0][0] >= 0.5"
      ],
      "execution_count": 7,
      "outputs": [
        {
          "output_type": "stream",
          "text": [
            "0 epoch, loss: 0.50515205\n",
            "500 epoch, loss: 0.37433827\n",
            "1000 epoch, loss: 0.29145685\n",
            "1500 epoch, loss: 0.2471409\n",
            "2000 epoch, loss: 0.21895403\n",
            "2500 epoch, loss: 0.19654727\n",
            "3000 epoch, loss: 0.1769602\n",
            "3500 epoch, loss: 0.15994358\n",
            "4000 epoch, loss: 0.14550856\n",
            "4500 epoch, loss: 0.13336095\n",
            "5000 epoch, loss: 0.12309025\n",
            "5500 epoch, loss: 0.11432114\n",
            "6000 epoch, loss: 0.10675101\n",
            "6500 epoch, loss: 0.10014487\n",
            "7000 epoch, loss: 0.094321914\n",
            "7500 epoch, loss: 0.08914286\n",
            "8000 epoch, loss: 0.08449958\n",
            "8500 epoch, loss: 0.08030734\n",
            "9000 epoch, loss: 0.076498896\n",
            "9500 epoch, loss: 0.07302044\n"
          ],
          "name": "stdout"
        }
      ]
    },
    {
      "cell_type": "code",
      "metadata": {
        "id": "A-2hjHL8YBZt",
        "colab": {
          "base_uri": "https://localhost:8080/"
        },
        "outputId": "72993132-e207-41fe-c205-cf10f58e731b"
      },
      "source": [
        "# OR operation\n",
        "inputs = tf.constant([[0.0,0.0], [0.0,1.0], [1.0,0.0], [1.0,1.0]])\n",
        "outputs = tf.constant([[0.0], [1.0], [1.0], [1.0]])\n",
        "\n",
        "node = Node()\n",
        "# train\n",
        "node.train(inputs, outputs, 0.01)\n",
        "# test\n",
        "assert node([[0.0,0.0]]).numpy()[0][0] < 0.5\n",
        "assert node([[0.0,1.0]]).numpy()[0][0] >= 0.5\n",
        "assert node([[1.0,0.0]]).numpy()[0][0] >= 0.5\n",
        "assert node([[1.0,1.0]]).numpy()[0][0] >= 0.5"
      ],
      "execution_count": null,
      "outputs": [
        {
          "output_type": "stream",
          "text": [
            "0 epoch, loss: 0.29322585\n",
            "1000 epoch, loss: 0.08768979\n",
            "2000 epoch, loss: 0.071268216\n",
            "3000 epoch, loss: 0.06190394\n",
            "4000 epoch, loss: 0.054545272\n",
            "5000 epoch, loss: 0.048518132\n",
            "6000 epoch, loss: 0.04351106\n",
            "7000 epoch, loss: 0.039306313\n",
            "8000 epoch, loss: 0.03574089\n",
            "9000 epoch, loss: 0.03269052\n"
          ],
          "name": "stdout"
        }
      ]
    },
    {
      "cell_type": "code",
      "metadata": {
        "id": "yQA6gGILYBZu",
        "colab": {
          "base_uri": "https://localhost:8080/"
        },
        "outputId": "32feb56e-5b9b-4528-ab2a-efdb141bdad5"
      },
      "source": [
        "print(\"Node Weights: \",node.w.numpy())"
      ],
      "execution_count": 8,
      "outputs": [
        {
          "output_type": "stream",
          "text": [
            "Node Weights:  [[1.5858313]\n",
            " [1.5875678]]\n"
          ],
          "name": "stdout"
        }
      ]
    },
    {
      "cell_type": "code",
      "metadata": {
        "id": "g4mVudxoYBZu",
        "colab": {
          "base_uri": "https://localhost:8080/"
        },
        "outputId": "eaa034a1-fb7d-4129-dd46-37718bb78327"
      },
      "source": [
        "print(\"Node Bias: \",node.b.numpy())"
      ],
      "execution_count": 9,
      "outputs": [
        {
          "output_type": "stream",
          "text": [
            "Node Bias:  [[-2.5546818]]\n"
          ],
          "name": "stdout"
        }
      ]
    },
    {
      "cell_type": "code",
      "metadata": {
        "id": "XzEpX1Q2YBZv"
      },
      "source": [
        ""
      ],
      "execution_count": null,
      "outputs": []
    }
  ]
}